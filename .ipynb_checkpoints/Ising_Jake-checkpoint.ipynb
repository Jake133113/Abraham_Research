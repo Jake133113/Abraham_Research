{
 "cells": [
  {
   "cell_type": "code",
   "execution_count": 15,
   "id": "e9392cc7-6082-49df-aec1-6344e2fff3ce",
   "metadata": {
    "tags": []
   },
   "outputs": [
    {
     "name": "stdout",
     "output_type": "stream",
     "text": [
      "[[-1  1 -1 -1 -1 -1  1 -1 -1  1  1  1  1 -1  1]\n",
      " [-1  1 -1  1  1  1 -1 -1  1 -1 -1 -1 -1 -1  1]\n",
      " [-1 -1 -1  1 -1  1  1 -1  1  1 -1  1 -1  1 -1]\n",
      " [ 1  1 -1  1 -1 -1 -1  1 -1 -1  1  1 -1  1 -1]\n",
      " [ 1  1 -1  1  1 -1 -1  1 -1  1  1 -1  1 -1 -1]\n",
      " [-1 -1  1 -1  1 -1 -1 -1 -1  1  1  1  1  1 -1]\n",
      " [ 1 -1  1 -1 -1 -1 -1 -1  1 -1  1  1  1  1  1]\n",
      " [ 1 -1  1  1  1  1 -1  1  1  1 -1 -1 -1 -1  1]\n",
      " [ 1  1 -1  1 -1 -1  1 -1 -1 -1 -1  1  1 -1 -1]\n",
      " [-1 -1 -1  1  1 -1  1  1  1  1 -1 -1 -1 -1  1]\n",
      " [-1 -1  1  1 -1 -1  1  1 -1  1  1  1  1  1  1]\n",
      " [ 1 -1  1  1 -1  1 -1  1  1 -1 -1 -1  1  1 -1]\n",
      " [-1 -1 -1 -1  1  1 -1  1 -1  1  1 -1 -1 -1  1]\n",
      " [-1  1  1  1  1 -1  1  1 -1  1 -1 -1 -1 -1  1]\n",
      " [ 1  1 -1 -1  1 -1  1  1 -1 -1 -1  1  1  1 -1]]\n"
     ]
    }
   ],
   "source": [
    "import numpy as np\n",
    "\n",
    "#Create a 2D lattice of random spins (-1 or 1)\n",
    "N = 15 #dimension of 2D lattice\n",
    "J = 1 #constant in the Hamiltonian. positive means ferromagnet\n",
    "kb = 1 #boltzmann Constant\n",
    "T = 3 #temperature\n",
    "Beta = 1/(kb*T)\n",
    "rando = np.random.randint(0,2,(N,N))\n",
    "\n",
    "\n",
    "\n",
    "for i in range(len(rando[:,0]\n",
    "                  )):\n",
    "    for j in range(len(rando[0,:])):\n",
    "        if rando[i,j] == 0:\n",
    "            rando[i,j] = -1\n",
    "            \n",
    "print(rando)\n",
    "\n",
    "#Now the variable rando holds a 2D lattice with random values of -1 and 1             "
   ]
  },
  {
   "cell_type": "code",
   "execution_count": 16,
   "id": "df577449-ef59-4704-9b4f-caaf530dac95",
   "metadata": {
    "tags": []
   },
   "outputs": [
    {
     "name": "stdout",
     "output_type": "stream",
     "text": [
      "18\n"
     ]
    }
   ],
   "source": [
    "#Now we need a function that calculates the energy of the lattice given a hamiltonian.\n",
    "\n",
    "def get_energy(twoDarray): #inputs a 2D array\n",
    "    center = twoDarray\n",
    "    up = np.roll(center,-1,axis=0)\n",
    "    right = np.roll(center,-1,axis=1)\n",
    "    energy = -J*np.sum((up+right)*center) #This method counts each pair once and uses periodic boundary conditions\n",
    "    return energy\n",
    "\n",
    "print(get_energy(rando))"
   ]
  },
  {
   "cell_type": "code",
   "execution_count": 53,
   "id": "ea3def4e-c811-463a-815c-cae5552b2f12",
   "metadata": {
    "tags": []
   },
   "outputs": [],
   "source": [
    "#Now we have the bones for the problem. We can now apply the metroplis algorithm to this problem.\n",
    "#This bit of code just changes some of the values\n",
    "#iterations = 30 \n",
    "\n",
    "#for i in range(iterations): \n",
    "    #Select a random spin position to flip:\n",
    "   # icoord = np.random.randint(0,N) \n",
    "   # jcoord = np.random.randint(0,N)\n",
    "   # random_spin = rando[icoord,jcoord]\n",
    "   # if random_spin == 1:\n",
    "   #     rando[icoord,jcoord] = -1\n",
    "        \n",
    "   # else:\n",
    "     #   rando[icoord,jcoord] = 1\n",
    "\n",
    "        "
   ]
  },
  {
   "cell_type": "code",
   "execution_count": 17,
   "id": "daa375b5-ac15-4a35-8206-4d3d1df0daba",
   "metadata": {
    "tags": []
   },
   "outputs": [
    {
     "ename": "ValueError",
     "evalue": "x and y must have same first dimension, but have shapes (0,) and (10000,)",
     "output_type": "error",
     "traceback": [
      "\u001b[0;31m---------------------------------------------------------------------------\u001b[0m",
      "\u001b[0;31mValueError\u001b[0m                                Traceback (most recent call last)",
      "Cell \u001b[0;32mIn[17], line 75\u001b[0m\n\u001b[1;32m     71\u001b[0m     \u001b[38;5;28;01mreturn\u001b[39;00m magperiteration\n\u001b[1;32m     73\u001b[0m nums \u001b[38;5;241m=\u001b[39m magnetplotter(rando,Beta)\n\u001b[0;32m---> 75\u001b[0m \u001b[43mplt\u001b[49m\u001b[38;5;241;43m.\u001b[39;49m\u001b[43mplot\u001b[49m\u001b[43m(\u001b[49m\u001b[43miterarr\u001b[49m\u001b[43m,\u001b[49m\u001b[43mnums\u001b[49m\u001b[43m,\u001b[49m\u001b[38;5;124;43m\"\u001b[39;49m\u001b[38;5;124;43mg.\u001b[39;49m\u001b[38;5;124;43m\"\u001b[39;49m\u001b[43m)\u001b[49m\n\u001b[1;32m     76\u001b[0m plt\u001b[38;5;241m.\u001b[39mxlabel(\u001b[38;5;124m\"\u001b[39m\u001b[38;5;124mIterations of the Metropolis Algorithm\u001b[39m\u001b[38;5;124m\"\u001b[39m)\n\u001b[1;32m     77\u001b[0m plt\u001b[38;5;241m.\u001b[39mylabel(\u001b[38;5;124m\"\u001b[39m\u001b[38;5;124mAverage Magnetization of the Lattice\u001b[39m\u001b[38;5;124m\"\u001b[39m)\n",
      "File \u001b[0;32m/opt/anaconda3/envs/dwave/lib/python3.11/site-packages/matplotlib/pyplot.py:2785\u001b[0m, in \u001b[0;36mplot\u001b[0;34m(scalex, scaley, data, *args, **kwargs)\u001b[0m\n\u001b[1;32m   2783\u001b[0m \u001b[38;5;129m@_copy_docstring_and_deprecators\u001b[39m(Axes\u001b[38;5;241m.\u001b[39mplot)\n\u001b[1;32m   2784\u001b[0m \u001b[38;5;28;01mdef\u001b[39;00m \u001b[38;5;21mplot\u001b[39m(\u001b[38;5;241m*\u001b[39margs, scalex\u001b[38;5;241m=\u001b[39m\u001b[38;5;28;01mTrue\u001b[39;00m, scaley\u001b[38;5;241m=\u001b[39m\u001b[38;5;28;01mTrue\u001b[39;00m, data\u001b[38;5;241m=\u001b[39m\u001b[38;5;28;01mNone\u001b[39;00m, \u001b[38;5;241m*\u001b[39m\u001b[38;5;241m*\u001b[39mkwargs):\n\u001b[0;32m-> 2785\u001b[0m     \u001b[38;5;28;01mreturn\u001b[39;00m \u001b[43mgca\u001b[49m\u001b[43m(\u001b[49m\u001b[43m)\u001b[49m\u001b[38;5;241;43m.\u001b[39;49m\u001b[43mplot\u001b[49m\u001b[43m(\u001b[49m\n\u001b[1;32m   2786\u001b[0m \u001b[43m        \u001b[49m\u001b[38;5;241;43m*\u001b[39;49m\u001b[43margs\u001b[49m\u001b[43m,\u001b[49m\u001b[43m \u001b[49m\u001b[43mscalex\u001b[49m\u001b[38;5;241;43m=\u001b[39;49m\u001b[43mscalex\u001b[49m\u001b[43m,\u001b[49m\u001b[43m \u001b[49m\u001b[43mscaley\u001b[49m\u001b[38;5;241;43m=\u001b[39;49m\u001b[43mscaley\u001b[49m\u001b[43m,\u001b[49m\n\u001b[1;32m   2787\u001b[0m \u001b[43m        \u001b[49m\u001b[38;5;241;43m*\u001b[39;49m\u001b[38;5;241;43m*\u001b[39;49m\u001b[43m(\u001b[49m\u001b[43m{\u001b[49m\u001b[38;5;124;43m\"\u001b[39;49m\u001b[38;5;124;43mdata\u001b[39;49m\u001b[38;5;124;43m\"\u001b[39;49m\u001b[43m:\u001b[49m\u001b[43m \u001b[49m\u001b[43mdata\u001b[49m\u001b[43m}\u001b[49m\u001b[43m \u001b[49m\u001b[38;5;28;43;01mif\u001b[39;49;00m\u001b[43m \u001b[49m\u001b[43mdata\u001b[49m\u001b[43m \u001b[49m\u001b[38;5;129;43;01mis\u001b[39;49;00m\u001b[43m \u001b[49m\u001b[38;5;129;43;01mnot\u001b[39;49;00m\u001b[43m \u001b[49m\u001b[38;5;28;43;01mNone\u001b[39;49;00m\u001b[43m \u001b[49m\u001b[38;5;28;43;01melse\u001b[39;49;00m\u001b[43m \u001b[49m\u001b[43m{\u001b[49m\u001b[43m}\u001b[49m\u001b[43m)\u001b[49m\u001b[43m,\u001b[49m\u001b[43m \u001b[49m\u001b[38;5;241;43m*\u001b[39;49m\u001b[38;5;241;43m*\u001b[39;49m\u001b[43mkwargs\u001b[49m\u001b[43m)\u001b[49m\n",
      "File \u001b[0;32m/opt/anaconda3/envs/dwave/lib/python3.11/site-packages/matplotlib/axes/_axes.py:1688\u001b[0m, in \u001b[0;36mAxes.plot\u001b[0;34m(self, scalex, scaley, data, *args, **kwargs)\u001b[0m\n\u001b[1;32m   1445\u001b[0m \u001b[38;5;250m\u001b[39m\u001b[38;5;124;03m\"\"\"\u001b[39;00m\n\u001b[1;32m   1446\u001b[0m \u001b[38;5;124;03mPlot y versus x as lines and/or markers.\u001b[39;00m\n\u001b[1;32m   1447\u001b[0m \n\u001b[0;32m   (...)\u001b[0m\n\u001b[1;32m   1685\u001b[0m \u001b[38;5;124;03m(``'green'``) or hex strings (``'#008000'``).\u001b[39;00m\n\u001b[1;32m   1686\u001b[0m \u001b[38;5;124;03m\"\"\"\u001b[39;00m\n\u001b[1;32m   1687\u001b[0m kwargs \u001b[38;5;241m=\u001b[39m cbook\u001b[38;5;241m.\u001b[39mnormalize_kwargs(kwargs, mlines\u001b[38;5;241m.\u001b[39mLine2D)\n\u001b[0;32m-> 1688\u001b[0m lines \u001b[38;5;241m=\u001b[39m [\u001b[38;5;241m*\u001b[39m\u001b[38;5;28mself\u001b[39m\u001b[38;5;241m.\u001b[39m_get_lines(\u001b[38;5;241m*\u001b[39margs, data\u001b[38;5;241m=\u001b[39mdata, \u001b[38;5;241m*\u001b[39m\u001b[38;5;241m*\u001b[39mkwargs)]\n\u001b[1;32m   1689\u001b[0m \u001b[38;5;28;01mfor\u001b[39;00m line \u001b[38;5;129;01min\u001b[39;00m lines:\n\u001b[1;32m   1690\u001b[0m     \u001b[38;5;28mself\u001b[39m\u001b[38;5;241m.\u001b[39madd_line(line)\n",
      "File \u001b[0;32m/opt/anaconda3/envs/dwave/lib/python3.11/site-packages/matplotlib/axes/_base.py:311\u001b[0m, in \u001b[0;36m_process_plot_var_args.__call__\u001b[0;34m(self, data, *args, **kwargs)\u001b[0m\n\u001b[1;32m    309\u001b[0m     this \u001b[38;5;241m+\u001b[39m\u001b[38;5;241m=\u001b[39m args[\u001b[38;5;241m0\u001b[39m],\n\u001b[1;32m    310\u001b[0m     args \u001b[38;5;241m=\u001b[39m args[\u001b[38;5;241m1\u001b[39m:]\n\u001b[0;32m--> 311\u001b[0m \u001b[38;5;28;01myield from\u001b[39;00m \u001b[38;5;28;43mself\u001b[39;49m\u001b[38;5;241;43m.\u001b[39;49m\u001b[43m_plot_args\u001b[49m\u001b[43m(\u001b[49m\n\u001b[1;32m    312\u001b[0m \u001b[43m    \u001b[49m\u001b[43mthis\u001b[49m\u001b[43m,\u001b[49m\u001b[43m \u001b[49m\u001b[43mkwargs\u001b[49m\u001b[43m,\u001b[49m\u001b[43m \u001b[49m\u001b[43mambiguous_fmt_datakey\u001b[49m\u001b[38;5;241;43m=\u001b[39;49m\u001b[43mambiguous_fmt_datakey\u001b[49m\u001b[43m)\u001b[49m\n",
      "File \u001b[0;32m/opt/anaconda3/envs/dwave/lib/python3.11/site-packages/matplotlib/axes/_base.py:504\u001b[0m, in \u001b[0;36m_process_plot_var_args._plot_args\u001b[0;34m(self, tup, kwargs, return_kwargs, ambiguous_fmt_datakey)\u001b[0m\n\u001b[1;32m    501\u001b[0m     \u001b[38;5;28mself\u001b[39m\u001b[38;5;241m.\u001b[39maxes\u001b[38;5;241m.\u001b[39myaxis\u001b[38;5;241m.\u001b[39mupdate_units(y)\n\u001b[1;32m    503\u001b[0m \u001b[38;5;28;01mif\u001b[39;00m x\u001b[38;5;241m.\u001b[39mshape[\u001b[38;5;241m0\u001b[39m] \u001b[38;5;241m!=\u001b[39m y\u001b[38;5;241m.\u001b[39mshape[\u001b[38;5;241m0\u001b[39m]:\n\u001b[0;32m--> 504\u001b[0m     \u001b[38;5;28;01mraise\u001b[39;00m \u001b[38;5;167;01mValueError\u001b[39;00m(\u001b[38;5;124mf\u001b[39m\u001b[38;5;124m\"\u001b[39m\u001b[38;5;124mx and y must have same first dimension, but \u001b[39m\u001b[38;5;124m\"\u001b[39m\n\u001b[1;32m    505\u001b[0m                      \u001b[38;5;124mf\u001b[39m\u001b[38;5;124m\"\u001b[39m\u001b[38;5;124mhave shapes \u001b[39m\u001b[38;5;132;01m{\u001b[39;00mx\u001b[38;5;241m.\u001b[39mshape\u001b[38;5;132;01m}\u001b[39;00m\u001b[38;5;124m and \u001b[39m\u001b[38;5;132;01m{\u001b[39;00my\u001b[38;5;241m.\u001b[39mshape\u001b[38;5;132;01m}\u001b[39;00m\u001b[38;5;124m\"\u001b[39m)\n\u001b[1;32m    506\u001b[0m \u001b[38;5;28;01mif\u001b[39;00m x\u001b[38;5;241m.\u001b[39mndim \u001b[38;5;241m>\u001b[39m \u001b[38;5;241m2\u001b[39m \u001b[38;5;129;01mor\u001b[39;00m y\u001b[38;5;241m.\u001b[39mndim \u001b[38;5;241m>\u001b[39m \u001b[38;5;241m2\u001b[39m:\n\u001b[1;32m    507\u001b[0m     \u001b[38;5;28;01mraise\u001b[39;00m \u001b[38;5;167;01mValueError\u001b[39;00m(\u001b[38;5;124mf\u001b[39m\u001b[38;5;124m\"\u001b[39m\u001b[38;5;124mx and y can be no greater than 2D, but have \u001b[39m\u001b[38;5;124m\"\u001b[39m\n\u001b[1;32m    508\u001b[0m                      \u001b[38;5;124mf\u001b[39m\u001b[38;5;124m\"\u001b[39m\u001b[38;5;124mshapes \u001b[39m\u001b[38;5;132;01m{\u001b[39;00mx\u001b[38;5;241m.\u001b[39mshape\u001b[38;5;132;01m}\u001b[39;00m\u001b[38;5;124m and \u001b[39m\u001b[38;5;132;01m{\u001b[39;00my\u001b[38;5;241m.\u001b[39mshape\u001b[38;5;132;01m}\u001b[39;00m\u001b[38;5;124m\"\u001b[39m)\n",
      "\u001b[0;31mValueError\u001b[0m: x and y must have same first dimension, but have shapes (0,) and (10000,)"
     ]
    },
    {
     "data": {
      "image/png": "[encoded data removed]",
      "text/plain": [
       "<Figure size 640x480 with 1 Axes>"
      ]
     },
     "metadata": {},
     "output_type": "display_data"
    }
   ],
   "source": [
    "import math\n",
    "import random\n",
    "import matplotlib.pyplot as plt\n",
    "\n",
    "#iterations = 30000\n",
    "\n",
    "iterarr = []\n",
    "magperiteration = []\n",
    "\n",
    "def magnet(rando,Beta): \n",
    "    iterations = 10000\n",
    "    iterarr = []\n",
    "    magperiteration = []\n",
    "    for i in range(iterations): \n",
    "        #Select a random spin position to flip:\n",
    "        icoord = np.random.randint(0,N) \n",
    "        jcoord = np.random.randint(0,N)\n",
    "        random_spin = rando[icoord,jcoord] \n",
    "        rando1 = np.copy(rando) #making a copy to make the change to (proposed change)\n",
    "        if random_spin == 1:\n",
    "            rando1[icoord,jcoord] = -1\n",
    "            dE = get_energy(rando1)-get_energy(rando)\n",
    "        else:\n",
    "            rando1[icoord,jcoord] = 1\n",
    "            dE = get_energy(rando1)-get_energy(rando)\n",
    "        if dE < 0:\n",
    "            rando = rando1 #accept the change if the energy is favorable\n",
    "        else:\n",
    "            P = math.e**(-Beta*dE)\n",
    "            number = random.random()\n",
    "            if P >= number:\n",
    "                rando = rando1\n",
    "            else:\n",
    "                rando = rando\n",
    "        M = (1/(N*N)*np.sum(rando))\n",
    "        magperiteration.append(M)\n",
    "    Mavg = abs(np.sum(magperiteration[iterations-1000:iterations]))/1000\n",
    "    #print(rando)\n",
    "    return Mavg\n",
    "\n",
    "def magnetplotter(rando,Beta): \n",
    "    iterations = 10000\n",
    "    iterarr = []\n",
    "    magperiteration = []\n",
    "    for i in range(iterations): \n",
    "        #Select a random spin position to flip:\n",
    "        icoord = np.random.randint(0,N) \n",
    "        jcoord = np.random.randint(0,N)\n",
    "        random_spin = rando[icoord,jcoord] \n",
    "        rando1 = np.copy(rando) #making a copy to make the change to (proposed change)\n",
    "        if random_spin == 1:\n",
    "            rando1[icoord,jcoord] = -1\n",
    "            dE = get_energy(rando1)-get_energy(rando)\n",
    "        else:\n",
    "            rando1[icoord,jcoord] = 1\n",
    "            dE = get_energy(rando1)-get_energy(rando)\n",
    "        if dE < 0:\n",
    "            rando = rando1 #accept the change if the energy is favorable\n",
    "        else:\n",
    "            P = math.e**(-Beta*dE)\n",
    "            number = random.random()\n",
    "            if P >= number:\n",
    "                rando = rando1\n",
    "            else:\n",
    "                rando = rando\n",
    "        M = (1/(N*N)*np.sum(rando))\n",
    "        magperiteration.append(M)\n",
    "        iterarr.append(i)\n",
    "    Mavg = abs(np.sum(magperiteration[iterations-1000:iterations]))/1000\n",
    "    #print(rando)\n",
    "    return magperiteration\n",
    "\n",
    "nums = magnetplotter(rando,Beta)\n",
    "\n",
    "plt.plot(iterarr,nums,\"g.\")\n",
    "plt.xlabel(\"Iterations of the Metropolis Algorithm\")\n",
    "plt.ylabel(\"Average Magnetization of the Lattice\")\n",
    "plt.title(\"Magnetization vs Time Step\")\n",
    "plt.show()\n",
    "\n"
   ]
  },
  {
   "cell_type": "code",
   "execution_count": 12,
   "id": "7781d036-8e87-4de5-b21f-40eb1d3fcb39",
   "metadata": {
    "tags": []
   },
   "outputs": [
    {
     "data": {
      "image/png": "[encoded data removed]",
      "text/plain": [
       "<Figure size 640x480 with 1 Axes>"
      ]
     },
     "metadata": {},
     "output_type": "display_data"
    }
   ],
   "source": [
    "#Now we want to plot the phase transition\n",
    "#Creating a set of Temperatures to plot against\n",
    "T = np.linspace(.2,5,100)\n",
    "Beta = 1/(kb*T)\n",
    "\n",
    "magpoints = []\n",
    "\n",
    "for i in range(len(T)):\n",
    "    magpoints.append(magnet(rando,Beta[i]))\n",
    "    \n",
    "\n",
    "plt.plot(T,magpoints,\"r.\")\n",
    "plt.xlabel(\"Temperature\")\n",
    "plt.ylabel(\"Average Magnetic Dipole\")\n",
    "plt.title(\"Ising Model Phase Transition\")\n",
    "plt.show()\n"
   ]
  },
  {
   "cell_type": "code",
   "execution_count": null,
   "id": "f311bb9a-ac08-48eb-80d6-cb11ef1b6ba4",
   "metadata": {},
   "outputs": [],
   "source": []
  }
 ],
 "metadata": {
  "kernelspec": {
   "display_name": "dwave",
   "language": "python",
   "name": "dwave"
  },
  "language_info": {
   "codemirror_mode": {
    "name": "ipython",
    "version": 3
   },
   "file_extension": ".py",
   "mimetype": "text/x-python",
   "name": "python",
   "nbconvert_exporter": "python",
   "pygments_lexer": "ipython3",
   "version": "3.11.0"
  }
 },
 "nbformat": 4,
 "nbformat_minor": 5
}
